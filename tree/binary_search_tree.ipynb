{
 "cells": [
  {
   "cell_type": "markdown",
   "metadata": {},
   "source": [
    "Sotring이 되면서 들어가는 linkedLIst = Tree"
   ]
  },
  {
   "cell_type": "markdown",
   "metadata": {},
   "source": [
    "Tree느느 결국 linkedlist"
   ]
  },
  {
   "cell_type": "markdown",
   "metadata": {},
   "source": [
    "Tree는 기본적으로 doubly linked list. 우리는 주로 Binary Tree를 다룬다.\n",
    "우리가 알고리즘을 배우는 이유 - 데이터를 저장하는 방식으로서의 데이터 구조를 배운다\n",
    "LinkedList가 기존의 Array보다 나은점 - 데이터가 들어올 때마다 계속 새로운 노드(공간)를 정의하면서 앞으로 나간다. 따라서, 공간이 고정되어 있지 않다. 링크드리스트가 아닌 경우 공간이 고정되어 있다. 하지만 Array 의 경우에도 Searching 하는 시간이 짧다는 장점이 있다.\n",
    "그래서 Flexibility를 확보를 할 것인가. 아니면 저장공간을 낭비하더라도 시간을 단축시킬 것인가."
   ]
  },
  {
   "cell_type": "markdown",
   "metadata": {},
   "source": [
    "- Tree의 목적 - 데이터의 효율적인 저장\n",
    "- 대표적인 예시 - Tree search(Binary Tree Search)\n",
    "- 기본적으로 tree는 ordered tree - 해당 node보다 작은 값이면 왼쪽, 큰 값이면 오른쪽으로 분류"
   ]
  },
  {
   "cell_type": "markdown",
   "metadata": {},
   "source": [
    "### Binary Tree"
   ]
  },
  {
   "cell_type": "markdown",
   "metadata": {},
   "source": [
    "- m-ary tree에서 m=2인 경우\n",
    "- 하나의 부모 Tree 밑에 두 개의 자식 Tree가 있는 구조"
   ]
  },
  {
   "cell_type": "markdown",
   "metadata": {},
   "source": [
    "### Binary Tree를 사용하는 이유\n",
    "\n",
    "- 구현이 간단하다.\n",
    "- 검색이 쉬워진다. = binary search tree(이진 검색 트리)라는 트리 형태가 따로 있다. 이것을 사용하면 검색이 쉬워진다.\n",
    "- 시간 복잡도는 늘어날 수 있다. (m-ary tree에 비해서)\n",
    "- 구현 방식에 따라 용량의 사용이 줄어든다.\n",
    "- 표준화 되어 있음 => 검색 및 정렬이 쉽다."
   ]
  },
  {
   "cell_type": "markdown",
   "metadata": {},
   "source": [
    "##### Array 기반의 repr은 공간 문제가 발생하게 된다\n",
    "\n",
    "- 그래서 일반적으로 Array기반으로 잘 안 한다.\n",
    "- 데이터 단위가 커지면 Array기반으로는 잘 안 된다.\n",
    "- 따라서 LinkedList로 처리한다.\n",
    "  "
   ]
  },
  {
   "cell_type": "code",
   "execution_count": 2,
   "metadata": {},
   "outputs": [],
   "source": [
    "class BinaryTreeNode:\n",
    "\n",
    "    def __init__(self, data):\n",
    "        self.data = data\n",
    "        self.left = None\n",
    "        self.right = None\n",
    "\n",
    "root = BinaryTreeNode(10)\n",
    "# Tree Structure\n",
    "#       10\n",
    "#      /  \\\n",
    "#    None None\n",
    "\n",
    "root.left = BinaryTreeNode(34)\n",
    "# Setting the left child of the root to 34\n",
    "root.right = BinaryTreeNode(89)\n",
    "# Setting the rihgt child of the root to 89\n",
    "\n",
    "#       10\n",
    "#      /  \\\n",
    "#     34   89"
   ]
  },
  {
   "cell_type": "markdown",
   "metadata": {},
   "source": [
    "### 이슈\n",
    "\n",
    "- 어떻게 삽입할 것인가?\n",
    "- 어떻게 삭제할 것인가?\n",
    "- 순서는 어떻게 할 것인가?"
   ]
  },
  {
   "cell_type": "markdown",
   "metadata": {},
   "source": []
  }
 ],
 "metadata": {
  "kernelspec": {
   "display_name": "Python 3.10.7 64-bit",
   "language": "python",
   "name": "python3"
  },
  "language_info": {
   "codemirror_mode": {
    "name": "ipython",
    "version": 3
   },
   "file_extension": ".py",
   "mimetype": "text/x-python",
   "name": "python",
   "nbconvert_exporter": "python",
   "pygments_lexer": "ipython3",
   "version": "3.10.7"
  },
  "orig_nbformat": 4,
  "vscode": {
   "interpreter": {
    "hash": "aee8b7b246df8f9039afb4144a1f6fd8d2ca17a180786b69acc140d282b71a49"
   }
  }
 },
 "nbformat": 4,
 "nbformat_minor": 2
}
