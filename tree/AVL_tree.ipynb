{
 "cells": [
  {
   "cell_type": "markdown",
   "metadata": {},
   "source": [
    "### AVL tree : 스스로 균형을 맞추는 binary search tree"
   ]
  },
  {
   "cell_type": "markdown",
   "metadata": {},
   "source": [
    "##### AVL tree 사용 이유 : 트리의 높이가 h일때 이진탐색트리의 계산복잡성은 O(h)이기 때문에 균형된 트리를 만드는 것이 목적. 되도록이면 낮추는 것이 좋음"
   ]
  },
  {
   "cell_type": "markdown",
   "metadata": {},
   "source": [
    "##### AVL tree 설명\n",
    "- Balance Factor(BF)\n",
    "  - 왼쪽 서브트리의 높이에서 오른쪽 서브트리의 높이를 뺀 것\n",
    "  - BF의 절대값이 2이상이면 밸런싱\n",
    "- AVL tree는 node를 삽입하거나 삭제할때 서브트리를 재구성한다.\n",
    "  - 트리 전체를 균형있게 조정함"
   ]
  },
  {
   "cell_type": "markdown",
   "metadata": {},
   "source": [
    "##### Single rotation(BF의 절대값이 2이상일때)\n",
    "\n",
    "- Right Rotation과 Left Rotation이 있음\n",
    "\n",
    "```raw\n",
    "        U                   V\n",
    "      /   \\               /   \\\n",
    "     V     Z    =>       X     U\n",
    "    / \\                       / \\\n",
    "   X   Y                     Y   Z\n",
    "\n",
    "<Before Rotation>     <After Rotation>\n",
    "```\n",
    "\n",
    "- V를 root의 자리로 옮겨야 하는데, V를 옮기게 되면 X는 그대로 있어도 되지만 Y는 U보다 작으므로 U의 왼쪽에 붙어야 함. "
   ]
  },
  {
   "cell_type": "markdown",
   "metadata": {},
   "source": [
    "##### 아래의 셀프 rotation 예시 그림\n",
    "\n",
    "```raw\n",
    "        A\n",
    "      /   \\\n",
    "    알파    B\n",
    "          / \\\n",
    "         베타 감마\n",
    "```"
   ]
  },
  {
   "cell_type": "code",
   "execution_count": 3,
   "metadata": {},
   "outputs": [],
   "source": [
    "class Node(object):\n",
    "    def __init__(self, data):\n",
    "        self.data = data\n",
    "        self.left = None\n",
    "        self.right = None\n",
    "\n",
    "# single rotation 코드\n",
    "def lrotate(self):\n",
    "    # 현재 트리의 기존 root를 A라고 둠\n",
    "    A = self.node\n",
    "    # 기존 root의 right child를 B라고 두자\n",
    "    B = self.node.right.node\n",
    "    # B의 left child(위 그림에서 베타)를 T라고 두자\n",
    "    T = B.left.node\n",
    "\n",
    "    # B를 새로운 root로 지정\n",
    "    self.node = B\n",
    "    # A를 root(B)의 새로운 left child로 지정\n",
    "    B.left.node = A\n",
    "    # T(위 그림에서 베타)를 A의 새로운 right chlid로 지정\n",
    "    A.right.node = T"
   ]
  },
  {
   "cell_type": "markdown",
   "metadata": {},
   "source": [
    "### Double Rotation\n",
    "\n",
    "- single rotation만으로 해결되지 않는 경우 -> double rotation 적용\n",
    "- V가 U의 왼쪽 자식노드, V의 오른쪽 서브트리에 새 노드 삽입\n",
    "- V가 U의 오른쪽 자식노드, V의 왼쪽 서브트리에 새 노드 삽입\n",
    "\n",
    "```raw\n",
    "        U                   U                        W\n",
    "      /   \\                / \\                     /   \\\n",
    "     V     D              W   D                   V     U\n",
    "    / \\          =>      / \\        =>           / \\   / \\\n",
    "   A   W                V   C                   A   B C   D\n",
    "      / \\              /     \\\n",
    "     B   C            A       B\n",
    "<Before Rotation> <After first Rotation>    <After second Rotation>\n",
    "```\n",
    "1. W를 V의 자리로 올려준다.\n",
    "2. V 자리에 있는 W를 U의 자리로 한번더 올려준다.\n",
    "\n",
    "- 시나리오1 : U의 왼쪽 자식노드의 왼쪽 서브트리 A에 새 노드 삽입 : single right rotation\n",
    "- 시나리오2 : U의 왼쪽 자식노드의 오른쪽 서브트리 B에 새 노드 삽입 : double rotation(left-right)\n",
    "- 시나리오3 : U의 오른쪽 자식노드의 왼쪽 서브트리 C에 새 노드 삽입 : double rotation(right-left)\n",
    "- 시나리오4 : U의 오른쪽 자식노드의 오른쪽 서브트리 D에 새 노드 삽입 : single left rotation\n",
    "\n",
    "```raw\n",
    "          U\n",
    "        /   \\\n",
    "       x     x\n",
    "      / \\   / \\\n",
    "     A   B C   D\n",
    "```"
   ]
  }
 ],
 "metadata": {
  "kernelspec": {
   "display_name": "Python 3.10.7 64-bit",
   "language": "python",
   "name": "python3"
  },
  "language_info": {
   "codemirror_mode": {
    "name": "ipython",
    "version": 3
   },
   "file_extension": ".py",
   "mimetype": "text/x-python",
   "name": "python",
   "nbconvert_exporter": "python",
   "pygments_lexer": "ipython3",
   "version": "3.10.7"
  },
  "orig_nbformat": 4,
  "vscode": {
   "interpreter": {
    "hash": "aee8b7b246df8f9039afb4144a1f6fd8d2ca17a180786b69acc140d282b71a49"
   }
  }
 },
 "nbformat": 4,
 "nbformat_minor": 2
}
