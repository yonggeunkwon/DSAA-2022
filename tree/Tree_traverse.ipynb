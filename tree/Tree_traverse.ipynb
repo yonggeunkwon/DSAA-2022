{
 "cells": [
  {
   "cell_type": "markdown",
   "metadata": {},
   "source": [
    "- 트리 값을 어떤 순서로 나열하는 것이 맞을까?"
   ]
  },
  {
   "cell_type": "markdown",
   "metadata": {},
   "source": [
    "### 전위순회\n",
    "\n",
    "1. root를 먼저 찍는다.\n",
    "2. 왼쪽으로 갈 수 있으면 간 뒤에 찍는다.\n",
    "3. 더이상 왼쪽으로 갈 수 없으면 오른쪽으로 가서 찍는다.\n",
    "4. 만약 왼쪽 오른쪽 둘 다 없으면 돌아간다.\n",
    "5. 다 찍을 때까지 반복한다."
   ]
  },
  {
   "cell_type": "code",
   "execution_count": 1,
   "metadata": {},
   "outputs": [],
   "source": [
    "# 전위순회 코드\n",
    "def printPreorder(root):\n",
    "\n",
    "    if root:\n",
    "\n",
    "        # First print the data of node\n",
    "        print(root.val)\n",
    "\n",
    "        # Then recur on left child\n",
    "        printPreorder(root.left)\n",
    "\n",
    "        # Finally recur on right child\n",
    "        printPreorder(root.right)"
   ]
  },
  {
   "cell_type": "markdown",
   "metadata": {},
   "source": [
    "### 중위순회\n",
    "\n",
    "1. 일단 왼쪽으로 갈 수 있을때까지 간다.\n",
    "2. 더이상 왼쪽으로 갈 수 없으면 찍어주고 오른쪽으로 간다.\n",
    "3. 오른쪽 왼쪽 둘 다 갈 수 없으면 돌아간다.\n",
    "4. 돌아갔을때 이미 왼쪽을 다녀왔으면 찍어준다.\n",
    "5. 위의 과정을 반복한다."
   ]
  },
  {
   "cell_type": "code",
   "execution_count": 3,
   "metadata": {},
   "outputs": [],
   "source": [
    "# 중위순회 코드\n",
    "\n",
    "def printInorder(root):\n",
    "\n",
    "    if root:\n",
    "\n",
    "        # First recur on left child\n",
    "        printInorder(root.left)\n",
    "\n",
    "        # then print the data of node\n",
    "        print(root.val)\n",
    "\n",
    "        #now recur on right child\n",
    "        printInorder(root.right)"
   ]
  },
  {
   "cell_type": "markdown",
   "metadata": {},
   "source": [
    "### 후위순회\n",
    "\n",
    "1. 일단 왼쪽으로 갈 수 있을때까지 간다.\n",
    "2. 왼쪽으로 더이상 갈 수 없을때, 오른쪽으로 갈 수 있다면 간다.\n",
    "3. 더이상 왼쪽이나 오른쪽으로 갈 수 없으면 찍어주고 돌아간다.\n",
    "4. 만약 돌아간 노드가 왼쪽, 오른쪽을 모두 방문했다면 찍어준다.\n",
    "5. 위의 과정을 반복한다."
   ]
  },
  {
   "cell_type": "code",
   "execution_count": 4,
   "metadata": {},
   "outputs": [],
   "source": [
    "# 후위순회 코드\n",
    "\n",
    "def printInorder(root):\n",
    "\n",
    "    if root:\n",
    "\n",
    "        # First recur on left child\n",
    "        printInorder(root.left)\n",
    "\n",
    "        # the recur on right child\n",
    "        printInorder(root.right)        \n",
    "\n",
    "        #now print the data of node\n",
    "        print(root.val)"
   ]
  }
 ],
 "metadata": {
  "kernelspec": {
   "display_name": "Python 3.10.7 64-bit",
   "language": "python",
   "name": "python3"
  },
  "language_info": {
   "codemirror_mode": {
    "name": "ipython",
    "version": 3
   },
   "file_extension": ".py",
   "mimetype": "text/x-python",
   "name": "python",
   "nbconvert_exporter": "python",
   "pygments_lexer": "ipython3",
   "version": "3.10.7"
  },
  "orig_nbformat": 4,
  "vscode": {
   "interpreter": {
    "hash": "aee8b7b246df8f9039afb4144a1f6fd8d2ca17a180786b69acc140d282b71a49"
   }
  }
 },
 "nbformat": 4,
 "nbformat_minor": 2
}
