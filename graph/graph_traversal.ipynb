{
 "cells": [
  {
   "cell_type": "markdown",
   "metadata": {},
   "source": [
    "##### 그래프는 깊이우선 탐색(DFS), 넓이우선 탐색으로 나뉨(BFS)"
   ]
  },
  {
   "cell_type": "markdown",
   "metadata": {},
   "source": [
    "##### DFS\n",
    "\n",
    "- Node의 인접 node 중 하나씩 먼저 방문하여 tree를 탐색, stack을 사용하여 visited 표시"
   ]
  },
  {
   "cell_type": "code",
   "execution_count": 10,
   "metadata": {},
   "outputs": [
    {
     "name": "stdout",
     "output_type": "stream",
     "text": [
      "node =  5\n",
      "visited =  set()\n",
      "graph[node] =  ['3', '7']\n",
      "node =  3\n",
      "visited =  {'5'}\n",
      "graph[node] =  ['2', '4']\n",
      "node =  2\n",
      "visited =  {'3', '5'}\n",
      "graph[node] =  []\n",
      "node =  4\n",
      "visited =  {'3', '2', '5'}\n",
      "graph[node] =  ['8']\n",
      "node =  8\n",
      "visited =  {'3', '2', '5', '4'}\n",
      "graph[node] =  []\n",
      "node =  7\n",
      "visited =  {'8', '2', '4', '3', '5'}\n",
      "graph[node] =  ['8']\n"
     ]
    }
   ],
   "source": [
    "# recursive하게 하는 방법\n",
    "def dfs(visited, graph, node):  # function of dfs\n",
    "    if node not in visited:\n",
    "        print(\"node = \", node)\n",
    "        print(\"visited = \", visited)\n",
    "        print(\"graph[node] = \", graph[node])\n",
    "        visited.add(node)\n",
    "        for neighbour in graph[node]:\n",
    "            dfs(visited, graph, neighbour)\n",
    "\n",
    "\n",
    "graph = {\n",
    "    '5' : ['3', '7'],\n",
    "    '3' : ['2', '4'],\n",
    "    '7' : ['8'],\n",
    "    '2' : [],\n",
    "    '4' : ['8'],\n",
    "    '8' : []\n",
    "}\n",
    "\n",
    "visited = set()  # visited를 전역행렬로 선언\n",
    "\n",
    "if __name__ == '__main__':\n",
    "    dfs(visited, graph, '5')"
   ]
  },
  {
   "attachments": {},
   "cell_type": "markdown",
   "metadata": {},
   "source": [
    "##### BFS(breadth-first search) : 넓이 우선 검색\n",
    "\n",
    "- Node의 인접 node들을 먼저 방문하여 tree를 탐색 -> queue 사용하여 visited를 표시"
   ]
  },
  {
   "cell_type": "code",
   "execution_count": 22,
   "metadata": {},
   "outputs": [
    {
     "name": "stdout",
     "output_type": "stream",
     "text": [
      "Following is the Breadth-First Search\n",
      "visited =  ['5']\n",
      "queue =  ['5']\n",
      "m =  5\n",
      "graph[m] =  ['3', '7']\n",
      "neighbour =  3\n",
      "neighbour =  7\n",
      "visited =  ['5', '3', '7']\n",
      "queue =  ['3', '7']\n",
      "m =  3\n",
      "graph[m] =  ['2', '4']\n",
      "neighbour =  2\n",
      "neighbour =  4\n",
      "visited =  ['5', '3', '7', '2', '4']\n",
      "queue =  ['7', '2', '4']\n",
      "m =  7\n",
      "graph[m] =  ['8']\n",
      "neighbour =  8\n",
      "visited =  ['5', '3', '7', '2', '4', '8']\n",
      "queue =  ['2', '4', '8']\n",
      "m =  2\n",
      "graph[m] =  []\n",
      "visited =  ['5', '3', '7', '2', '4', '8']\n",
      "queue =  ['4', '8']\n",
      "m =  4\n",
      "graph[m] =  ['8']\n",
      "neighbour =  8\n",
      "visited =  ['5', '3', '7', '2', '4', '8']\n",
      "queue =  ['8']\n",
      "m =  8\n",
      "graph[m] =  []\n"
     ]
    }
   ],
   "source": [
    "graph = {\n",
    "    '5' : ['3', '7'],\n",
    "    '3' : ['2', '4'],\n",
    "    '7' : ['8'],\n",
    "    '2' : [],\n",
    "    '4' : ['8'],\n",
    "    '8' : []\n",
    "}\n",
    "\n",
    "visited = []\n",
    "queue = []\n",
    "\n",
    "def bfs(visited, graph, node):  #function of BFS\n",
    "    visited.append(node)\n",
    "    queue.append(node)\n",
    "\n",
    "    while queue:\n",
    "        print(\"visited = \", visited)\n",
    "        print(\"queue = \", queue)\n",
    "        m = queue.pop(0)\n",
    "        print(\"m = \", m)\n",
    "        print(\"graph[m] = \", graph[m])\n",
    "        # print(m, end = \" \")\n",
    "\n",
    "        for neighbour in graph[m]:\n",
    "            print(\"neighbour = \", neighbour)\n",
    "            if neighbour not in visited:\n",
    "                visited.append(neighbour)\n",
    "                queue.append(neighbour)\n",
    "\n",
    "print(\"Following is the Breadth-First Search\")\n",
    "bfs(visited, graph, '5')"
   ]
  },
  {
   "cell_type": "markdown",
   "metadata": {},
   "source": [
    "### DFS vs BFS\n",
    "\n",
    "- 두 알고리즘 모두 O(V + E) -> (linkedList로 구현한 경우), 또는 O(V^2)의 time complexity를 가진다.\n",
    "- 일반적으로 먼 곳에 있는, 많이 떨어져 있는 뭔가를 찾을 때는 DFS 가 빠를 수 있으나, 일반적으로 DFS 알고리즘은 recursive하게 작성하다 보니 속도 저하가 발생할 수 밖에 없다.\n",
    "- 알고리즘 문제를 풀 때는 BFS가 속도가 빠른 경우가 많을 것이다."
   ]
  },
  {
   "cell_type": "markdown",
   "metadata": {},
   "source": []
  }
 ],
 "metadata": {
  "kernelspec": {
   "display_name": "Python 3.10.7 64-bit",
   "language": "python",
   "name": "python3"
  },
  "language_info": {
   "codemirror_mode": {
    "name": "ipython",
    "version": 3
   },
   "file_extension": ".py",
   "mimetype": "text/x-python",
   "name": "python",
   "nbconvert_exporter": "python",
   "pygments_lexer": "ipython3",
   "version": "3.10.7"
  },
  "orig_nbformat": 4,
  "vscode": {
   "interpreter": {
    "hash": "aee8b7b246df8f9039afb4144a1f6fd8d2ca17a180786b69acc140d282b71a49"
   }
  }
 },
 "nbformat": 4,
 "nbformat_minor": 2
}
