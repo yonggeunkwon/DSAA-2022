{
 "cells": [
  {
   "cell_type": "code",
   "execution_count": 3,
   "metadata": {},
   "outputs": [],
   "source": [
    "import os\n",
    "import pandas as pd\n",
    "import numpy as np"
   ]
  },
  {
   "cell_type": "code",
   "execution_count": 6,
   "metadata": {},
   "outputs": [],
   "source": [
    "PATH = '/Users/kwon-yong-geun/workspace/dsaa-2022/graph/'\n",
    "filenames = os.listdir(PATH)"
   ]
  },
  {
   "cell_type": "code",
   "execution_count": 35,
   "metadata": {},
   "outputs": [],
   "source": [
    "node_list_filepath = os.path.join(PATH, filenames[1])\n",
    "edge_list_filepath = os.path.join(PATH, filenames[3])"
   ]
  },
  {
   "cell_type": "code",
   "execution_count": 32,
   "metadata": {},
   "outputs": [
    {
     "data": {
      "text/plain": [
       "'/Users/kwon-yong-geun/workspace/dsaa-2022/graph/marvel-unimodal-nodes.csv'"
      ]
     },
     "execution_count": 32,
     "metadata": {},
     "output_type": "execute_result"
    }
   ],
   "source": [
    "node_list_filepath"
   ]
  },
  {
   "cell_type": "code",
   "execution_count": 36,
   "metadata": {},
   "outputs": [
    {
     "data": {
      "text/plain": [
       "'/Users/kwon-yong-geun/workspace/dsaa-2022/graph/marvel-unimodal-edges.csv'"
      ]
     },
     "execution_count": 36,
     "metadata": {},
     "output_type": "execute_result"
    }
   ],
   "source": [
    "edge_list_filepath"
   ]
  },
  {
   "cell_type": "code",
   "execution_count": 14,
   "metadata": {},
   "outputs": [],
   "source": [
    "node_list_dict = pd.read_csv(node_list_filepath).to_dict(orient=\"index\")\n",
    "id_list = []\n",
    "label_list = []\n",
    "\n",
    "node_dict = {}\n",
    "\n",
    "for key, value in node_list_dict.items():\n",
    "    node_dict[value[\"Label\"]] = key\n",
    "    # print(value)"
   ]
  },
  {
   "cell_type": "code",
   "execution_count": 15,
   "metadata": {},
   "outputs": [
    {
     "data": {
      "text/plain": [
       "{\"Black Panther / T'chal\": 0,\n",
       " 'Loki [asgardian]': 1,\n",
       " 'Mantis / ? Brandt': 2,\n",
       " 'Iceman / Robert Bobby': 3,\n",
       " 'Marvel Girl / Jean Grey': 4,\n",
       " 'Cyclops / Scott Summer': 5,\n",
       " 'Klaw / Ulysses Klaw': 6,\n",
       " 'Human Torch / Johnny S': 7,\n",
       " 'Richards, Franklin B': 8,\n",
       " 'Wolverine / Logan': 9,\n",
       " 'Firebird / Bonita Juar': 10,\n",
       " 'Mr. Fantastic / Reed R': 11,\n",
       " 'Medusa / Medusalith Am': 12,\n",
       " 'Dr. Strange / Stephen': 13,\n",
       " 'Jack Of Hearts / Jack': 14,\n",
       " 'Mephisto': 15,\n",
       " 'Thanos': 16,\n",
       " 'Swordsman / Jacques Du': 17,\n",
       " 'Collector / Taneleer T': 18,\n",
       " 'Lockjaw [inhuman]': 19,\n",
       " 'Sub-mariner / Namor Ma': 20,\n",
       " 'Pharaoh Rama-tut': 21,\n",
       " 'Ant-man Ii / Scott Har': 22,\n",
       " 'Lyja Lazerfist [skru': 23,\n",
       " 'Gorgon [inhuman]': 24,\n",
       " 'Nighthawk Ii / Kyle Ri': 25,\n",
       " 'Cage, Luke / Carl Luca': 26,\n",
       " 'Colossus Ii / Peter Ra': 27,\n",
       " 'Hellcat / Patsy Walker': 28,\n",
       " 'Karnak [inhuman]': 29,\n",
       " 'Death': 30,\n",
       " 'Redwing': 31,\n",
       " 'Daredevil / Matt Murdo': 32,\n",
       " 'Norriss, Sister Barb': 33,\n",
       " 'Rage / Elvin Daryl Hal': 34,\n",
       " 'Starfox / Eros': 35,\n",
       " 'Demolition Man / Denni': 36,\n",
       " 'Sersi / Sylvia': 37,\n",
       " 'Spider-man / Peter Parker': 38,\n",
       " 'Vision': 39,\n",
       " 'Uatu': 40,\n",
       " 'Binary / Carol Danvers': 41,\n",
       " 'Gyrich, Henry Peter': 42,\n",
       " 'Nightcrawler / Kurt Wa': 43,\n",
       " 'Angel / Warren Kenneth': 44,\n",
       " 'Silver Surfer / Norrin': 45,\n",
       " 'She-hulk / Jennifer Wa': 46,\n",
       " 'Ghaur [deviant]': 47,\n",
       " 'Dr. Doom / Victor Von': 48,\n",
       " 'Storm / Ororo Munroe S': 49,\n",
       " 'Scarlet Witch / Wanda': 50,\n",
       " 'Toad / Mortimer Toynbe': 51,\n",
       " 'Hulk / Dr. Robert Bruce Banner': 52,\n",
       " 'Firestar / Angelica Jo': 53,\n",
       " 'Wonder Man / Simon Wil': 54,\n",
       " 'Drax / Arthur Douglas': 55,\n",
       " 'Dugan, Timothy Aloyi': 56,\n",
       " 'Carter, Sharon': 57,\n",
       " 'Black Knight V / Dane': 58,\n",
       " 'Sunfire / Shiro Yoshid': 59,\n",
       " 'Triton': 60,\n",
       " 'Ultron': 61,\n",
       " 'Jones, Richard Milho': 62,\n",
       " 'Iron Man / Tony Stark': 63,\n",
       " 'Nelson, Franklin Fog': 64,\n",
       " 'Captain America': 65,\n",
       " 'Jarvis, Edwin': 66,\n",
       " 'Quasar Iii / Wendell V': 67,\n",
       " 'Jameson, J. Jonah': 68,\n",
       " 'Masters, Alicia Reis': 69,\n",
       " 'Magneto / Magnus / Eric': 70,\n",
       " 'Invisible Woman / Sue': 71,\n",
       " 'Professor X / Charles': 72,\n",
       " 'Iron Fist / Daniel Ran': 73,\n",
       " 'Black Bolt / Blackanto': 74,\n",
       " 'Hawk': 75,\n",
       " 'Sandman / William Bake': 76,\n",
       " 'Falcon / Sam Wilson': 77,\n",
       " 'Stingray / Dr. Walter': 78,\n",
       " 'Justice Ii / Vance Ast': 79,\n",
       " 'Hercules [greek God]': 80,\n",
       " 'Usagent / Captain John': 81,\n",
       " 'Captain Marvel Ii / Mo': 82,\n",
       " 'Crystal [inhuman]': 83,\n",
       " 'Tigra / Greer Nelson': 84,\n",
       " 'Spider-woman Ii / Juli': 85,\n",
       " 'Machine Man / X-51': 86,\n",
       " 'Mockingbird / Dr. Barb': 87,\n",
       " 'Captain Marvel / Capta': 88,\n",
       " 'Wasp / Janet Van Dyne': 89,\n",
       " 'Fury, Col. Nicholas': 90,\n",
       " 'Thor / Dr. Donald Blak': 91,\n",
       " 'Quicksilver / Pietro M': 92,\n",
       " 'Captain Britain / Bria': 93,\n",
       " 'Shadowcat / Katherine': 94,\n",
       " 'Black Widow / Natasha': 95,\n",
       " 'Ant-man / Dr. Henry J.': 96,\n",
       " 'Moon Knight / Marc Spe': 97,\n",
       " 'Jocasta': 98,\n",
       " 'Moondragon / Heather D': 99,\n",
       " 'Thing / Benjamin J. Gr': 100,\n",
       " 'Beast / Henry &hank& P': 101,\n",
       " 'Nova / Richard Rider': 102,\n",
       " 'Wrecker Iii / Dirk Gar': 103,\n",
       " 'Warlock Ii / Adam Warl': 104,\n",
       " 'Piledriver Ii / Brian': 105,\n",
       " 'Thunderball / Dr. Elio': 106,\n",
       " 'Dr. Octopus / Otto Oct': 107,\n",
       " 'Banner, Betty Ross T': 108,\n",
       " 'Avalanche / Dominic Pe': 109,\n",
       " 'Attuma': 110,\n",
       " 'Hela [asgardian]': 111,\n",
       " 'Doc Samson / Dr. Leona': 112,\n",
       " 'Guardian / James Macdo': 113,\n",
       " 'Northstar / Jean-paul': 114,\n",
       " 'Dr. Druid / Anthony Lu': 115,\n",
       " 'Watson-parker, Mary': 116,\n",
       " 'Mystique / Raven Darkh': 117,\n",
       " 'Pyro / Allerdyce Johnn': 118,\n",
       " 'Destiny Ii / Irene Adl': 119,\n",
       " 'Mister Hyde / Calvin Z': 120,\n",
       " 'Ghost Rider Ii / Johnn': 121,\n",
       " 'Mole Man / Harvey Rupe': 122,\n",
       " 'Firelord / Pyreus Kril': 123,\n",
       " 'Leader / Sam Sterns': 124,\n",
       " 'Le Fey, Morgan': 125,\n",
       " 'Bulldozer / Henry Camp': 126,\n",
       " 'Forgotten One / Gilgam': 127,\n",
       " 'Balder [asgardian]': 128,\n",
       " 'Hogun [asgardian]': 129,\n",
       " 'Hellstorm / Daimon Hel': 130,\n",
       " 'Aurora / Jeanne-marie': 131,\n",
       " \"O'brien, Michael\": 132,\n",
       " 'Stankowicz, Fabian': 133,\n",
       " 'Screaming Mimi / Melis': 134,\n",
       " 'Moonstone Ii / Karla S': 135,\n",
       " 'Fixer Ii / Paul Norber': 136,\n",
       " 'Darkstar / Laynia Serg': 137,\n",
       " 'Vanguard / Nicolai Kry': 138,\n",
       " 'Gamora': 139,\n",
       " 'Psylocke / Elisabeth B': 140,\n",
       " 'Rogue  / ': 141,\n",
       " 'Sasquatch / Walter Lan': 142,\n",
       " 'Luna / Luna Maximoff [': 143,\n",
       " 'Whizzer Ii / Stanley S': 144,\n",
       " 'Dr. Spectrum / Joseph': 145,\n",
       " 'Kingpin / Wilson Fisk': 146,\n",
       " 'Clea': 147,\n",
       " 'Polaris / Lorna Dane': 148,\n",
       " 'De La Fontaine, Cont': 149,\n",
       " 'Heimdall [asgardian]': 150,\n",
       " 'Red Skull / Johann Sch': 151,\n",
       " 'Thompson, Eugene Fla': 152,\n",
       " 'Wong': 153,\n",
       " 'Parker, May': 154,\n",
       " 'Green Goblin / Norman': 155,\n",
       " 'Night Thrasher / Duane': 156,\n",
       " 'Eternity / Adam Qadmon': 157,\n",
       " 'Galactus / Galan': 158,\n",
       " 'Triathlon / Delroy Gar': 159,\n",
       " 'Beetle / Abner Ronald': 160,\n",
       " 'Lilandra Neramani [s': 161,\n",
       " 'Odin [asgardian]': 162,\n",
       " 'Hogan, Virginia Pepp': 163,\n",
       " 'Mad Dog / Colonel Buzz': 164,\n",
       " 'Kincaid, Dr. Jane Fo': 165,\n",
       " 'Wizard / Bentley Wittm': 166,\n",
       " 'Charcoal / Charlie Bur': 167,\n",
       " 'Blob / Fred J. Dukes': 168,\n",
       " 'Cloak / Tyrone Johnson': 169,\n",
       " 'Thunderstrike / Eric K': 170,\n",
       " 'Power Man / Erik Joste': 171,\n",
       " 'Human Torch Android / ': 172,\n",
       " 'Juggernaut / Cain Mark': 173,\n",
       " 'Absorbing Man / Carl C': 174,\n",
       " 'Volstagg': 175,\n",
       " 'Shaman / Michael Twoyo': 176,\n",
       " 'Snowbird / Narya / Anne': 177,\n",
       " 'Dagger / Tandy Bowen': 178,\n",
       " 'Phoenix Iii / Rachel S': 179,\n",
       " 'Mandarin': 180,\n",
       " 'Fandral [asgardian]': 181,\n",
       " 'Ms. Marvel Ii / Sharon': 182,\n",
       " 'Pip / Prince Gofern': 183,\n",
       " 'Enchantress / Amora / He': 184,\n",
       " 'Jameson, Col. John': 185,\n",
       " 'Cooper, Dr. Valerie': 186,\n",
       " 'Nova Ii / Frankie Raye': 187,\n",
       " 'Darkhawk / Chris Powel': 188,\n",
       " 'Nomad Iii / Jack Monro': 189,\n",
       " 'Robertson, Joe': 190,\n",
       " 'Gargoyle Ii / Isaac Ch': 191,\n",
       " 'Namorita / Nita Prenti': 192,\n",
       " 'Iron Man Iv / James R.': 193,\n",
       " 'Ross, Gen. Thaddeus': 194,\n",
       " 'Harkness, Agatha': 195,\n",
       " 'Carter, Peggy': 196,\n",
       " 'Hyperion': 197,\n",
       " 'Living Lightning / Mig': 198,\n",
       " 'Jones, Gabe': 199,\n",
       " 'Osborn, Liz Allan': 200,\n",
       " 'Leeds, Betty Brant': 201,\n",
       " 'Sif': 202,\n",
       " 'Dazzler Ii / Allison B': 203,\n",
       " 'Molecule Man / Owen Re': 204,\n",
       " 'Speedball / Robbie Bal': 205,\n",
       " 'Lizard / Dr. Curtis Co': 206,\n",
       " 'Volcana / Marsha Rosen': 207,\n",
       " 'Lockheed': 208,\n",
       " 'Titania Ii / Mary Skee': 209,\n",
       " 'Boomer / Tabitha Smith': 210,\n",
       " 'Summers, Nathan Chri': 211,\n",
       " 'Summers, Madelyne Ma': 212,\n",
       " 'Mactaggert, Moira Ki': 213,\n",
       " 'Cannonball Ii / Sam Gu': 214,\n",
       " 'Tilby, Trish / Patrici': 215,\n",
       " 'Skids / Sally Blevins': 216,\n",
       " 'Wolfsbane / Rahne Sinc': 217,\n",
       " 'Leech': 218,\n",
       " 'Mirage Ii / Danielle M': 219,\n",
       " 'Gambit / Remy Lebeau': 220,\n",
       " 'Jubilee / Jubilation L': 221,\n",
       " 'Strong Guy / Guido Car': 222,\n",
       " 'Spiral': 223,\n",
       " 'Banshee / Sean Cassidy': 224,\n",
       " 'Legion Ii / David Hall': 225,\n",
       " 'Havok / Alex Summers': 226,\n",
       " 'Longshot': 227,\n",
       " 'Forge': 228,\n",
       " 'Sabretooth / Victor Cr': 229,\n",
       " 'Maddicks, Arthur Art': 230,\n",
       " 'Warlock Iii': 231,\n",
       " 'Rictor / Julio Esteban': 232,\n",
       " 'Sunspot / Roberto Daco': 233,\n",
       " 'Firefist / Rusty Colli': 234,\n",
       " 'Bishop  / ': 235,\n",
       " 'Daytripper / Amanda Se': 236,\n",
       " 'Wild Child / Kyle Gibn': 237,\n",
       " 'Thunderbird Ii / James': 238,\n",
       " 'Sauron / Dr. Karl Lyko': 239,\n",
       " 'Siryn / Theresa Rourke': 240,\n",
       " 'Shatterstar Ii / Gavee': 241,\n",
       " 'Marrow / Sarah': 242,\n",
       " 'Feral / Maria Callasan': 243,\n",
       " 'Callisto': 244,\n",
       " 'Mr. Sinister / Nathan': 245,\n",
       " 'Raza Longknife': 246,\n",
       " 'Spider-woman / Jessica': 247,\n",
       " 'Cypher / Doug Ramsey': 248,\n",
       " \"Deathbird [shi'ar]\": 249,\n",
       " 'Hudson, Heather': 250,\n",
       " 'Stryfe': 251,\n",
       " 'Iron Man Doppelgange': 252,\n",
       " 'Puck / Eugene Milton J': 253,\n",
       " 'Silhouette': 254,\n",
       " 'Cortez, Fabian': 255,\n",
       " 'Black King / Sebastian': 256,\n",
       " 'Magik / Illyana Rasput': 257,\n",
       " 'Zabu': 258,\n",
       " 'Domino Iii / Beatrice / ': 259,\n",
       " 'Caliban / ': 260,\n",
       " 'Apocalypse / En Sabah': 261,\n",
       " 'Hunter, Stevie': 262,\n",
       " 'Corsair': 263,\n",
       " \"Ch'od\": 264,\n",
       " \"Mam'selle Hepzibah\": 265,\n",
       " 'Zero': 266,\n",
       " 'X-man / Nathan Grey': 267,\n",
       " \"Karma / Xi'an Coy Manh\": 268,\n",
       " 'Mr. Fantastic Doppel': 269,\n",
       " 'Beyonder': 270,\n",
       " 'Multiple Man / James A': 271,\n",
       " 'Colossus Ii Doppelga': 272,\n",
       " 'Scanner Ii': 273,\n",
       " 'Ka-zar / Kevin Plunder': 274,\n",
       " 'White Queen / Emma Fro': 275,\n",
       " 'Magma / Amara Aquilla / ': 276,\n",
       " 'Thanos Doppelganger': 277,\n",
       " 'Magus': 278,\n",
       " 'Knight, Misty': 279,\n",
       " 'Wing, Colleen': 280,\n",
       " 'Puppet Master / Philli': 281,\n",
       " 'Maximus [inhuman]': 282,\n",
       " 'Punisher Ii / Frank Ca': 283,\n",
       " 'Zeus': 284,\n",
       " 'Box Iv / Madison Jeffr': 285,\n",
       " 'Thena': 286,\n",
       " 'Black Cat / Felicia Ha': 287,\n",
       " 'Gee / Alex Power': 288,\n",
       " 'Spider-man Clone / Ben': 289,\n",
       " 'Ulik': 290,\n",
       " 'Citizen V Ii / Helmut': 291,\n",
       " 'High Evolutionary / He': 292,\n",
       " 'Hobgoblin V / Jason Ph': 293,\n",
       " 'Ghost Rider Iii / Dan': 294,\n",
       " 'Cushing, Kate': 295,\n",
       " 'Katzenberg, Nick': 296,\n",
       " 'Vizier': 297,\n",
       " 'Tombstone / Lonnie Tho': 298,\n",
       " 'Mercado, Joy': 299,\n",
       " 'Hammerhead': 300,\n",
       " 'Arranger / ': 301,\n",
       " 'Osborn, Harry': 302,\n",
       " 'Cobra / Klaus Vorhees': 303,\n",
       " 'Leeds, Ned': 304,\n",
       " 'Watson, Anna': 305,\n",
       " 'Urich, Ben': 306,\n",
       " 'Robertson, Randy': 307,\n",
       " 'Page, Karen': 308,\n",
       " 'Grant, Gloria Glory': 309,\n",
       " 'Lubenski, Nate': 310,\n",
       " 'Ikaris / Ike Harris [e': 311,\n",
       " 'Rosenthal, Bernie': 312,\n",
       " 'Gladiator Ii': 313,\n",
       " 'Beta Ray Bill': 314,\n",
       " 'Bridge, George Washi': 315,\n",
       " 'Diamond Lil / Lillian': 316,\n",
       " 'Asp Ii / Cleo': 317,\n",
       " 'Black Mamba / Tanya Se': 318,\n",
       " 'Meggan': 319,\n",
       " 'Austin, Susan': 320,\n",
       " 'Diamondback Ii / Rache': 321,\n",
       " 'Makkari / Mike Khary / I': 322,\n",
       " 'Hodge, Cameron': 323,\n",
       " 'Skin / Angelo Espinosa': 324,\n",
       " 'Husk / Paige Guthrie': 325,\n",
       " 'Deadpool / Jack / Wade W': 326}"
      ]
     },
     "execution_count": 15,
     "metadata": {},
     "output_type": "execute_result"
    }
   ],
   "source": [
    "node_dict"
   ]
  },
  {
   "cell_type": "code",
   "execution_count": 16,
   "metadata": {},
   "outputs": [
    {
     "data": {
      "text/plain": [
       "327"
      ]
     },
     "execution_count": 16,
     "metadata": {},
     "output_type": "execute_result"
    }
   ],
   "source": [
    "len(node_dict)"
   ]
  },
  {
   "cell_type": "code",
   "execution_count": 17,
   "metadata": {},
   "outputs": [],
   "source": [
    "matrix_size = len(node_dict)\n",
    "adjacency_matrix = np.zeros((matrix_size, matrix_size))"
   ]
  },
  {
   "cell_type": "code",
   "execution_count": 18,
   "metadata": {},
   "outputs": [
    {
     "data": {
      "text/plain": [
       "array([[0., 0., 0., ..., 0., 0., 0.],\n",
       "       [0., 0., 0., ..., 0., 0., 0.],\n",
       "       [0., 0., 0., ..., 0., 0., 0.],\n",
       "       ...,\n",
       "       [0., 0., 0., ..., 0., 0., 0.],\n",
       "       [0., 0., 0., ..., 0., 0., 0.],\n",
       "       [0., 0., 0., ..., 0., 0., 0.]])"
      ]
     },
     "execution_count": 18,
     "metadata": {},
     "output_type": "execute_result"
    }
   ],
   "source": [
    "adjacency_matrix"
   ]
  },
  {
   "cell_type": "code",
   "execution_count": 22,
   "metadata": {},
   "outputs": [
    {
     "data": {
      "text/plain": [
       "0"
      ]
     },
     "execution_count": 22,
     "metadata": {},
     "output_type": "execute_result"
    }
   ],
   "source": [
    "node_dict[\"Black Panther / T\\'chal\"]"
   ]
  },
  {
   "cell_type": "code",
   "execution_count": 23,
   "metadata": {},
   "outputs": [],
   "source": [
    "def set_weight_for_matrix(row):\n",
    "    source_idx = node_dict[row[\"Source\"]]\n",
    "    target_idx = node_dict[row[\"Target\"]]\n",
    "    weight = row[\"Weight\"]\n",
    "    adjacency_matrix[source_idx][target_idx] = weight"
   ]
  },
  {
   "cell_type": "code",
   "execution_count": 37,
   "metadata": {},
   "outputs": [
    {
     "data": {
      "text/plain": [
       "0       None\n",
       "1       None\n",
       "2       None\n",
       "3       None\n",
       "4       None\n",
       "        ... \n",
       "9886    None\n",
       "9887    None\n",
       "9888    None\n",
       "9889    None\n",
       "9890    None\n",
       "Length: 9891, dtype: object"
      ]
     },
     "execution_count": 37,
     "metadata": {},
     "output_type": "execute_result"
    }
   ],
   "source": [
    "df = pd.read_csv(edge_list_filepath)\n",
    "df.apply(set_weight_for_matrix, axis=1)"
   ]
  },
  {
   "cell_type": "code",
   "execution_count": 38,
   "metadata": {},
   "outputs": [
    {
     "data": {
      "text/plain": [
       "array([[ 0., 10., 23., ...,  0.,  0.,  0.],\n",
       "       [ 0.,  0.,  7., ...,  0.,  0.,  0.],\n",
       "       [ 0.,  0.,  0., ...,  0.,  0.,  0.],\n",
       "       ...,\n",
       "       [ 0.,  0.,  0., ...,  0., 69.,  0.],\n",
       "       [ 0.,  0.,  0., ...,  0.,  0.,  0.],\n",
       "       [ 0.,  0.,  0., ...,  0.,  0.,  0.]])"
      ]
     },
     "execution_count": 38,
     "metadata": {},
     "output_type": "execute_result"
    }
   ],
   "source": [
    "adjacency_matrix"
   ]
  },
  {
   "cell_type": "code",
   "execution_count": null,
   "metadata": {},
   "outputs": [],
   "source": []
  }
 ],
 "metadata": {
  "kernelspec": {
   "display_name": "Python 3.10.7 64-bit",
   "language": "python",
   "name": "python3"
  },
  "language_info": {
   "codemirror_mode": {
    "name": "ipython",
    "version": 3
   },
   "file_extension": ".py",
   "mimetype": "text/x-python",
   "name": "python",
   "nbconvert_exporter": "python",
   "pygments_lexer": "ipython3",
   "version": "3.10.7"
  },
  "orig_nbformat": 4,
  "vscode": {
   "interpreter": {
    "hash": "aee8b7b246df8f9039afb4144a1f6fd8d2ca17a180786b69acc140d282b71a49"
   }
  }
 },
 "nbformat": 4,
 "nbformat_minor": 2
}
