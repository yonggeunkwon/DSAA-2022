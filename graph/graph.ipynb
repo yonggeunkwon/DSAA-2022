{
 "cells": [
  {
   "cell_type": "markdown",
   "metadata": {},
   "source": [
    "그래프 왜  쓸까...\n",
    "\n",
    "트리와의 차이점 \n",
    "트리는 그 래프의 일종\n",
    "\n",
    "그래프- 상하관계까 없음\n",
    "트리 - 상하관계가 있음\n",
    "ㄱㅖ층정보의 유무\n",
    "\n"
   ]
  },
  {
   "cell_type": "markdown",
   "metadata": {},
   "source": [
    "Miro Finder\n",
    "\n",
    "12/7까지에염"
   ]
  },
  {
   "cell_type": "markdown",
   "metadata": {},
   "source": [
    "트리처럼 계층적인 형태로 내려가는 것이 아니라 묘두와 연관관계를 가질 수 있는 구조\n",
    "tree는 depth가 있지만 그래프는 depth를 잡기 어렵다\n",
    "트리는 그래프의 일종이다."
   ]
  },
  {
   "cell_type": "markdown",
   "metadata": {},
   "source": [
    "##### 그래프\n",
    "- node들을 Edge로 연결하여 표현하는 자료형\n",
    "- 방향은 있으나 상하관계가 없다.\n",
    "- 루트 노드의 개념이 없다.\n",
    "- 네트워크 모델\n",
    "\n",
    "##### Tree\n",
    "- 계층을 가진 자료를 표현하기 위한 그래프의 일종\n",
    "- 양방향이 아닌 단방향으로 노드간의 연결이 됨.\n",
    "- cycle이 존재하지 않는다.\n",
    "- 계층 모델"
   ]
  },
  {
   "cell_type": "markdown",
   "metadata": {},
   "source": [
    "Directed graph와 undirected graph가 있고 그것은 데이터의 특정에 따라 다르다"
   ]
  },
  {
   "cell_type": "markdown",
   "metadata": {},
   "source": []
  }
 ],
 "metadata": {
  "kernelspec": {
   "display_name": "Python 3.10.7 64-bit",
   "language": "python",
   "name": "python3"
  },
  "language_info": {
   "name": "python",
   "version": "3.10.7"
  },
  "orig_nbformat": 4,
  "vscode": {
   "interpreter": {
    "hash": "aee8b7b246df8f9039afb4144a1f6fd8d2ca17a180786b69acc140d282b71a49"
   }
  }
 },
 "nbformat": 4,
 "nbformat_minor": 2
}
