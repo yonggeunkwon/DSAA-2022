{
 "cells": [
  {
   "cell_type": "code",
   "execution_count": 6,
   "metadata": {},
   "outputs": [],
   "source": [
    "def merge_sort(unsorted_array):\n",
    "    if len(unsorted_array) > 1:\n",
    "        print(\"un = \",unsorted_array)\n",
    "        mid = len(unsorted_array) // 2\n",
    "        left = unsorted_array[:mid]\n",
    "        print(\"l = \",left)\n",
    "        right = unsorted_array[mid:]\n",
    "        print(\"r = \", right)\n",
    "\n",
    "        merge_sort(left)\n",
    "        merge_sort(right)\n",
    "        \n",
    "    else:  # unsorted_array의 크기가 1보다 작거나 같을 경우\n",
    "        i = j = k = 0\n",
    "        print(\"left = \",left)\n",
    "        print(\"right = \",right)\n",
    "        print(\"unsorted_array = \", unsorted_array)\n",
    "        while i < len(left) and j < len(right):\n",
    "            if left[i] < right[j]:\n",
    "                unsorted_array[k] = left[i]  # unsorted_array의 K번째 값을 둘 중에서 작은 것으로 바꿈\n",
    "            else:\n",
    "                unsorted_array[k] = right[j]  # unsorted_array의 K번째 값을 둘 중에서 작은 것으로 바꿈\n",
    "                j += 1\n",
    "            k += 1\n",
    "        print(unsorted_array)\n",
    "        while i < len(left):\n",
    "            unsorted_array[k] = left[i]\n",
    "            i += 1\n",
    "            k += 1\n",
    "\n",
    "        while j < len(right):\n",
    "            unsorted_array[k] = right[j]\n",
    "            j += 1 \n",
    "            k += 1 "
   ]
  },
  {
   "cell_type": "code",
   "execution_count": 7,
   "metadata": {},
   "outputs": [
    {
     "name": "stdout",
     "output_type": "stream",
     "text": [
      "[994, 409, 853, 487, 607, 789, 802, 680, 869, 877]\n",
      "un =  [994, 409, 853, 487, 607, 789, 802, 680, 869, 877]\n",
      "l =  [994, 409, 853, 487, 607]\n",
      "r =  [789, 802, 680, 869, 877]\n",
      "un =  [994, 409, 853, 487, 607]\n",
      "l =  [994, 409]\n",
      "r =  [853, 487, 607]\n",
      "un =  [994, 409]\n",
      "l =  [994]\n",
      "r =  [409]\n"
     ]
    },
    {
     "ename": "UnboundLocalError",
     "evalue": "local variable 'left' referenced before assignment",
     "output_type": "error",
     "traceback": [
      "\u001b[0;31m---------------------------------------------------------------------------\u001b[0m",
      "\u001b[0;31mUnboundLocalError\u001b[0m                         Traceback (most recent call last)",
      "Cell \u001b[0;32mIn [7], line 4\u001b[0m\n\u001b[1;32m      2\u001b[0m array \u001b[39m=\u001b[39m [randint(\u001b[39m1\u001b[39m, \u001b[39m1000\u001b[39m) \u001b[39mfor\u001b[39;00m _ \u001b[39min\u001b[39;00m \u001b[39mrange\u001b[39m(\u001b[39m10\u001b[39m)]\n\u001b[1;32m      3\u001b[0m \u001b[39mprint\u001b[39m(array)\n\u001b[0;32m----> 4\u001b[0m \u001b[39mprint\u001b[39m(merge_sort(array))\n",
      "Cell \u001b[0;32mIn [6], line 10\u001b[0m, in \u001b[0;36mmerge_sort\u001b[0;34m(unsorted_array)\u001b[0m\n\u001b[1;32m      7\u001b[0m     right \u001b[39m=\u001b[39m unsorted_array[mid:]\n\u001b[1;32m      8\u001b[0m     \u001b[39mprint\u001b[39m(\u001b[39m\"\u001b[39m\u001b[39mr = \u001b[39m\u001b[39m\"\u001b[39m, right)\n\u001b[0;32m---> 10\u001b[0m     merge_sort(left)\n\u001b[1;32m     11\u001b[0m     merge_sort(right)\n\u001b[1;32m     13\u001b[0m \u001b[39melse\u001b[39;00m:  \u001b[39m# unsorted_array의 크기가 1보다 작거나 같을 경우\u001b[39;00m\n",
      "Cell \u001b[0;32mIn [6], line 10\u001b[0m, in \u001b[0;36mmerge_sort\u001b[0;34m(unsorted_array)\u001b[0m\n\u001b[1;32m      7\u001b[0m     right \u001b[39m=\u001b[39m unsorted_array[mid:]\n\u001b[1;32m      8\u001b[0m     \u001b[39mprint\u001b[39m(\u001b[39m\"\u001b[39m\u001b[39mr = \u001b[39m\u001b[39m\"\u001b[39m, right)\n\u001b[0;32m---> 10\u001b[0m     merge_sort(left)\n\u001b[1;32m     11\u001b[0m     merge_sort(right)\n\u001b[1;32m     13\u001b[0m \u001b[39melse\u001b[39;00m:  \u001b[39m# unsorted_array의 크기가 1보다 작거나 같을 경우\u001b[39;00m\n",
      "Cell \u001b[0;32mIn [6], line 10\u001b[0m, in \u001b[0;36mmerge_sort\u001b[0;34m(unsorted_array)\u001b[0m\n\u001b[1;32m      7\u001b[0m     right \u001b[39m=\u001b[39m unsorted_array[mid:]\n\u001b[1;32m      8\u001b[0m     \u001b[39mprint\u001b[39m(\u001b[39m\"\u001b[39m\u001b[39mr = \u001b[39m\u001b[39m\"\u001b[39m, right)\n\u001b[0;32m---> 10\u001b[0m     merge_sort(left)\n\u001b[1;32m     11\u001b[0m     merge_sort(right)\n\u001b[1;32m     13\u001b[0m \u001b[39melse\u001b[39;00m:  \u001b[39m# unsorted_array의 크기가 1보다 작거나 같을 경우\u001b[39;00m\n",
      "Cell \u001b[0;32mIn [6], line 15\u001b[0m, in \u001b[0;36mmerge_sort\u001b[0;34m(unsorted_array)\u001b[0m\n\u001b[1;32m     13\u001b[0m \u001b[39melse\u001b[39;00m:  \u001b[39m# unsorted_array의 크기가 1보다 작거나 같을 경우\u001b[39;00m\n\u001b[1;32m     14\u001b[0m     i \u001b[39m=\u001b[39m j \u001b[39m=\u001b[39m k \u001b[39m=\u001b[39m \u001b[39m0\u001b[39m\n\u001b[0;32m---> 15\u001b[0m     \u001b[39mprint\u001b[39m(\u001b[39m\"\u001b[39m\u001b[39mleft = \u001b[39m\u001b[39m\"\u001b[39m,left)\n\u001b[1;32m     16\u001b[0m     \u001b[39mprint\u001b[39m(\u001b[39m\"\u001b[39m\u001b[39mright = \u001b[39m\u001b[39m\"\u001b[39m,right)\n\u001b[1;32m     17\u001b[0m     \u001b[39mprint\u001b[39m(\u001b[39m\"\u001b[39m\u001b[39munsorted_array = \u001b[39m\u001b[39m\"\u001b[39m, unsorted_array)\n",
      "\u001b[0;31mUnboundLocalError\u001b[0m: local variable 'left' referenced before assignment"
     ]
    }
   ],
   "source": [
    "from random import randint\n",
    "array = [randint(1, 1000) for _ in range(10)]\n",
    "print(array)\n",
    "print(merge_sort(array))"
   ]
  },
  {
   "cell_type": "code",
   "execution_count": null,
   "metadata": {},
   "outputs": [],
   "source": []
  }
 ],
 "metadata": {
  "kernelspec": {
   "display_name": "Python 3.10.7 64-bit",
   "language": "python",
   "name": "python3"
  },
  "language_info": {
   "codemirror_mode": {
    "name": "ipython",
    "version": 3
   },
   "file_extension": ".py",
   "mimetype": "text/x-python",
   "name": "python",
   "nbconvert_exporter": "python",
   "pygments_lexer": "ipython3",
   "version": "3.10.7"
  },
  "orig_nbformat": 4,
  "vscode": {
   "interpreter": {
    "hash": "aee8b7b246df8f9039afb4144a1f6fd8d2ca17a180786b69acc140d282b71a49"
   }
  }
 },
 "nbformat": 4,
 "nbformat_minor": 2
}
