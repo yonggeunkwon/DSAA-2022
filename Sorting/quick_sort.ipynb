{
 "cells": [
  {
   "cell_type": "code",
   "execution_count": 5,
   "metadata": {},
   "outputs": [],
   "source": [
    "def partition(arr, low ,high):\n",
    "    i = (low-1)\n",
    "    pivot = arr[high]\n",
    "    print(f\"pivot: {pivot}\")\n",
    "    print(arr[low:high])\n",
    "\n",
    "    for j in range(low, high):\n",
    "        if arr[j] <= pivot:\n",
    "            i = i+1\n",
    "            arr[i], arr[j] = arr[j], arr[i]\n",
    "\n",
    "    arr[i+1], arr[high] = arr[high], arr[i+1]\n",
    "    return (i+1)\n",
    "\n",
    "def quickSort(arr, low, high):\n",
    "    if len(arr) == 1:  #sorting할 데이터가 없으면\n",
    "        return arr  # 해당 arr를 반환\n",
    "    if low < high:\n",
    "        pi = partition(arr, low, high)\n",
    "\n",
    "        quickSort(arr, low, pi-1)\n",
    "        quickSort(arr, pi+1, high)"
   ]
  },
  {
   "cell_type": "code",
   "execution_count": 3,
   "metadata": {},
   "outputs": [
    {
     "name": "stdout",
     "output_type": "stream",
     "text": [
      "Given array is\n",
      "[713, 318, 100, 851, 495, 507, 334, 353, 465, 39]\n",
      "Sorted array is: \n"
     ]
    }
   ],
   "source": [
    "from random import randint\n",
    "n = 10\n",
    "array = [randint(1, 1000) for _ in range(n)]\n",
    "print(\"Given array is\", end=\"\\n\")\n",
    "print(array)\n",
    "quickSort(array, 0, n-1)\n",
    "print(\"Sorted array is: \", end=\"\\n\")"
   ]
  },
  {
   "cell_type": "code",
   "execution_count": 6,
   "metadata": {},
   "outputs": [
    {
     "name": "stdout",
     "output_type": "stream",
     "text": [
      "0\n"
     ]
    }
   ],
   "source": [
    "print(1//2)"
   ]
  },
  {
   "cell_type": "code",
   "execution_count": null,
   "metadata": {},
   "outputs": [],
   "source": []
  }
 ],
 "metadata": {
  "kernelspec": {
   "display_name": "Python 3.10.7 64-bit",
   "language": "python",
   "name": "python3"
  },
  "language_info": {
   "codemirror_mode": {
    "name": "ipython",
    "version": 3
   },
   "file_extension": ".py",
   "mimetype": "text/x-python",
   "name": "python",
   "nbconvert_exporter": "python",
   "pygments_lexer": "ipython3",
   "version": "3.10.7"
  },
  "orig_nbformat": 4,
  "vscode": {
   "interpreter": {
    "hash": "aee8b7b246df8f9039afb4144a1f6fd8d2ca17a180786b69acc140d282b71a49"
   }
  }
 },
 "nbformat": 4,
 "nbformat_minor": 2
}
