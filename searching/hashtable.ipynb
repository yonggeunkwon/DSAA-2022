{
 "cells": [
  {
   "cell_type": "markdown",
   "metadata": {},
   "source": [
    "# hashtable 해시테이블"
   ]
  },
  {
   "cell_type": "markdown",
   "metadata": {},
   "source": [
    "**log n 보다 빠른 방법은 없는가?**\n",
    "- dict 타입처럼 키값과 value값이 있다면, key값만 안다면 value값을 찾을 수 있으므로 빠르다\n",
    "- 이것을 해시테이블이라고 부름"
   ]
  },
  {
   "cell_type": "markdown",
   "metadata": {},
   "source": [
    "Hashing Function - 정보를 숨기는 암호화 함수"
   ]
  },
  {
   "cell_type": "markdown",
   "metadata": {},
   "source": [
    "##### 나머지를 가지고 넣는 경우\n",
    "- Hash key 값을 할당한다. (Hash key = key % table size)\n",
    "- 테이블의 길이가 8이고, 4번째 값이 36이라면 hash key는 4. \n",
    "- 즉, 나머지 값이 인덱스가 됨\n",
    " "
   ]
  },
  {
   "cell_type": "markdown",
   "metadata": {},
   "source": [
    "**만약 겹치는 경우에는?**\n",
    "- 겹치는 경우에만 Linked list를 만들어준다"
   ]
  },
  {
   "cell_type": "markdown",
   "metadata": {},
   "source": [
    "- hash table의 장점은 한번만 연산을 하면 무조건 결과를 출력할 수 있는 Time complexity가 1인 최적화 된 모형임\n",
    "- 체이닝이 많이 일어나게 되면 위의 장점이 없어지게 된다\n",
    "- 그래서 체이닝이 많이 일어나지 않게 하기 위해서 memory를 많이 이용하게 된다\n",
    "- Time Complexity는 best - 1, worst - n, average - 1"
   ]
  },
  {
   "cell_type": "markdown",
   "metadata": {},
   "source": [
    "- Hashing function을 사용하여 값들을 특정 위치에 배치시킨다.\n",
    "- 다소 많은 여유공간의 확보가 필요하다 (충돌 방지)\n",
    "- 매우 검색이 많이 필요한 데이터 구조 -> 저장, 삭제, 읽기가 빈번한 경우\n",
    "- 캐쉬 구현 등 다양한 application이 존재한다.\n",
    "- Time Complexity는 best - 1, worst - n, average - 1"
   ]
  },
  {
   "cell_type": "code",
   "execution_count": 1,
   "metadata": {},
   "outputs": [
    {
     "name": "stdout",
     "output_type": "stream",
     "text": [
      "1-1칸 1-2칸 1-3칸**end 입니다** \n",
      "2-1칸**sep입니다**2-2칸**sep입니다**2-3칸\n"
     ]
    }
   ],
   "source": [
    "print(\"1-1칸\",\"1-2칸\",\"1-3칸\",end = \"**end 입니다** \\n\")\n",
    "print(\"2-1칸\",\"2-2칸\",\"2-3칸\",sep = \"**sep입니다**\")\n"
   ]
  }
 ],
 "metadata": {
  "kernelspec": {
   "display_name": "Python 3.10.7 64-bit",
   "language": "python",
   "name": "python3"
  },
  "language_info": {
   "codemirror_mode": {
    "name": "ipython",
    "version": 3
   },
   "file_extension": ".py",
   "mimetype": "text/x-python",
   "name": "python",
   "nbconvert_exporter": "python",
   "pygments_lexer": "ipython3",
   "version": "3.10.7"
  },
  "orig_nbformat": 4,
  "vscode": {
   "interpreter": {
    "hash": "aee8b7b246df8f9039afb4144a1f6fd8d2ca17a180786b69acc140d282b71a49"
   }
  }
 },
 "nbformat": 4,
 "nbformat_minor": 2
}
