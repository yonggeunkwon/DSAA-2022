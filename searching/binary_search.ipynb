{
 "cells": [
  {
   "cell_type": "markdown",
   "metadata": {},
   "source": [
    "# binary search 이진 검색"
   ]
  },
  {
   "cell_type": "markdown",
   "metadata": {},
   "source": [
    "**일단 정렬이 되어 있어야 한다.**"
   ]
  },
  {
   "cell_type": "markdown",
   "metadata": {},
   "source": [
    "1. 정렬된 리스트에서 중간값을 찾는다.\n",
    "2. 만약 찾고자 하는 값이 중간값보다 작으면 왼쪽으로 반을 잘라서 왼쪽에서 중간값을 찾는다.\n",
    "3. 반복"
   ]
  },
  {
   "cell_type": "markdown",
   "metadata": {},
   "source": [
    "- 정렬된 array로 할 때 사용\n",
    "- Divide and conquer로 정렬\n",
    "- 반씩 계속 나누니까 log n\n",
    "- worst - log n , best - 1, average - log n"
   ]
  },
  {
   "cell_type": "code",
   "execution_count": 3,
   "metadata": {},
   "outputs": [],
   "source": [
    "def binary_search_recursive(array, element, start, end):  # element는 찾고자 하는 값, start와 end는 리스트의 양쪽 끝 값.\n",
    "    if start > end:  # 못찾은 경우\n",
    "        return -1  # -1 을 반환\n",
    "    \n",
    "    mid = (start + end) // 2 \n",
    "    if element == array[mid]:  # 원하는 값을 바로 찾은 경우\n",
    "        return mid  # 해당 인덱스를 반환\n",
    "\n",
    "    if element < array[mid]:  # 만약 내가 원하는 값이 중앙값보다 작은 경우\n",
    "        return binary_search_recursive(array, element, start, mid-1)  # end만 바뀌어서 다시 들어가게 됨\n",
    "    else:  # 만약 내가 원하는 값이 중앙값보다 큰 경우\n",
    "        return binary_search_recursive(array, element, mid+1, end)  # start만 바뀌어서 다시 들어가게 됨"
   ]
  },
  {
   "cell_type": "code",
   "execution_count": 8,
   "metadata": {},
   "outputs": [
    {
     "name": "stdout",
     "output_type": "stream",
     "text": [
      "[2, 2, 3, 23, 29, 37, 42, 55, 62, 66, 71, 73, 74, 78, 80, 84, 84, 88, 93, 97]\n",
      "2\n",
      "1\n"
     ]
    }
   ],
   "source": [
    "from random import randint\n",
    "\n",
    "arr = []\n",
    "for _ in range(20):\n",
    "    arr.append(randint(1, 100))\n",
    "\n",
    "arr.sort()\n",
    "N = len(arr)\n",
    "start = 0\n",
    "target = arr[randint(1, N)]\n",
    "\n",
    "print(arr)\n",
    "print(target)\n",
    "\n",
    "value = binary_search_recursive(arr, target, start, N)\n",
    "print(value)"
   ]
  },
  {
   "cell_type": "code",
   "execution_count": null,
   "metadata": {},
   "outputs": [],
   "source": []
  }
 ],
 "metadata": {
  "kernelspec": {
   "display_name": "Python 3.10.7 64-bit",
   "language": "python",
   "name": "python3"
  },
  "language_info": {
   "codemirror_mode": {
    "name": "ipython",
    "version": 3
   },
   "file_extension": ".py",
   "mimetype": "text/x-python",
   "name": "python",
   "nbconvert_exporter": "python",
   "pygments_lexer": "ipython3",
   "version": "3.10.7"
  },
  "orig_nbformat": 4,
  "vscode": {
   "interpreter": {
    "hash": "aee8b7b246df8f9039afb4144a1f6fd8d2ca17a180786b69acc140d282b71a49"
   }
  }
 },
 "nbformat": 4,
 "nbformat_minor": 2
}
