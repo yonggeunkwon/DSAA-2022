{
 "cells": [
  {
   "cell_type": "markdown",
   "metadata": {},
   "source": [
    "# linear search 선형 검색"
   ]
  },
  {
   "cell_type": "code",
   "execution_count": 2,
   "metadata": {},
   "outputs": [],
   "source": [
    "def search(arr, x):\n",
    "    for i in range(len(arr)):   # arr의 길이 만큼 for loop이 돌아감\n",
    "        if arr[i] == x :  # 해당 값을 찾았으면\n",
    "            return i   # 해당 인덱스를 돌려줌\n",
    "    return -1  # 그렇지 않을 경우 -1을 돌려줌\n"
   ]
  },
  {
   "cell_type": "code",
   "execution_count": 4,
   "metadata": {},
   "outputs": [
    {
     "data": {
      "text/plain": [
       "3"
      ]
     },
     "execution_count": 4,
     "metadata": {},
     "output_type": "execute_result"
    }
   ],
   "source": [
    "arr = [14,2,32,41,5]\n",
    "search(arr, 41)\n"
   ]
  },
  {
   "cell_type": "markdown",
   "metadata": {},
   "source": [
    "### sentinel method 보초법 - 몇번 매칭을 하는가?"
   ]
  },
  {
   "cell_type": "code",
   "execution_count": 6,
   "metadata": {},
   "outputs": [],
   "source": [
    "def sentinel(lst, target):\n",
    "    size = len(lst)\n",
    "    lst.append(target)  # 찾고자 하는 값을 리스트의 맨 마지막에 넣는다\n",
    "    i = 0\n",
    "    while(lst[i] != target):  # 원하는 값을 찾을 때까지 반복\n",
    "        i += 1\n",
    "    if i == size:  # 끝까지 돌았을 경우 i 가 size와 같아짐 (원하는 값을 찾지 못함)\n",
    "        return None  # 원하는 값을 찾지 못했으므로 None을 반환\n",
    "    else:  #원하는 값을 찾았으므로\n",
    "        return i #해당 인덱스를 반환"
   ]
  },
  {
   "cell_type": "markdown",
   "metadata": {},
   "source": []
  }
 ],
 "metadata": {
  "kernelspec": {
   "display_name": "Python 3.10.7 64-bit",
   "language": "python",
   "name": "python3"
  },
  "language_info": {
   "codemirror_mode": {
    "name": "ipython",
    "version": 3
   },
   "file_extension": ".py",
   "mimetype": "text/x-python",
   "name": "python",
   "nbconvert_exporter": "python",
   "pygments_lexer": "ipython3",
   "version": "3.10.7"
  },
  "orig_nbformat": 4,
  "vscode": {
   "interpreter": {
    "hash": "aee8b7b246df8f9039afb4144a1f6fd8d2ca17a180786b69acc140d282b71a49"
   }
  }
 },
 "nbformat": 4,
 "nbformat_minor": 2
}
