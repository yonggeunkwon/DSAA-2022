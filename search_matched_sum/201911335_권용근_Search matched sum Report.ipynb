{
 "cells": [
  {
   "cell_type": "markdown",
   "metadata": {},
   "source": [
    "# Search matched sum Report 201911335 권용근"
   ]
  },
  {
   "cell_type": "markdown",
   "metadata": {},
   "source": [
    "- 가설 검증을 위해, Array의 길이가 10인 경우와, 10000인 경우로 나누어 시간을 측정했다.\n",
    "- TimeComplexity의 차이를 두기 위해, n^2의 시간 복잡도를 가지는 Sorting함수인 BubbleSort와 nlogn의 시간 복잡도를 가지는 Sorting함수인 MergeSort를 이용했다."
   ]
  },
  {
   "cell_type": "markdown",
   "metadata": {},
   "source": [
    "## 가설1 : Array의 길이와 상관없이 Time Complexity가 BubbleSort보다 낮은 MergeSort가 항상 빠르다."
   ]
  },
  {
   "cell_type": "markdown",
   "metadata": {},
   "source": [
    "##### 우선, Array 중 2개의 합이 target 값과 동일한 index의 값을 찾는 search_matched_sum 함수는 아래와 같다. Time Complexity가 BubbleSort와 MergeSort보다 작은 logn인 Binary Search를 사용하여 해당 인덱스를 찾게 되는데, Binary Search에 들어가는 array는 항상 정렬된 상태로 들어가야 한다."
   ]
  },
  {
   "cell_type": "code",
   "execution_count": 7,
   "metadata": {},
   "outputs": [],
   "source": [
    "def binary_search_recursive(array, element, start, end):  # element는 찾고자 하는 값, start와 end는 리스트의 양쪽 끝 값.\n",
    "    if start > end:  # 못찾은 경우\n",
    "        return -1  # -1 을 반환\n",
    "    \n",
    "    mid = (start + end) // 2 \n",
    "    if element == array[mid]:  # 원하는 값을 바로 찾은 경우\n",
    "        return mid  # 해당 인덱스를 반환\n",
    "\n",
    "    if element < array[mid]:  # 만약 내가 원하는 값이 중앙값보다 작은 경우\n",
    "        return binary_search_recursive(array, element, start, mid-1)  # end만 바뀌어서 다시 들어가게 됨\n",
    "    else:  # 만약 내가 원하는 값이 중앙값보다 큰 경우\n",
    "        return binary_search_recursive(array, element, mid+1, end)  # start만 바뀌어서 다시 들어가게 됨"
   ]
  },
  {
   "cell_type": "code",
   "execution_count": 15,
   "metadata": {},
   "outputs": [
    {
     "data": {
      "text/plain": [
       "(5, 0)"
      ]
     },
     "execution_count": 15,
     "metadata": {},
     "output_type": "execute_result"
    }
   ],
   "source": [
    "def search_matched_sum(arr, target):\n",
    "    min_index = ()\n",
    "    n = len(arr)\n",
    "    for i in range(n):\n",
    "        element = target - arr[i]\n",
    "        if target == arr[i]  + arr[binary_search_recursive(arr, element, start, n)]:\n",
    "            min_index = (i, binary_search_recursive(arr, element, start, n))      \n",
    "    return min_index\n",
    "\n",
    "arr = [2, 3, 5, 9, 10, 11 ,13, 14, 18, 19]\n",
    "start = 0\n",
    "\n",
    "search_matched_sum(arr, 13)"
   ]
  },
  {
   "cell_type": "markdown",
   "metadata": {},
   "source": [
    "### 앞서 말했듯이, Binary Search를 사용하려면 항상 정렬된 array가 인자로 들어가야 한다. 따라서, 만약 Array가 정렬되지 않은 상태라면 Array를 먼저 정렬해주기 위해 Sorting함수를 사용할 것인데, Time Complexity가 각각 n^2 와 nlogn 인 BubbleSort와 MergeSort를 사용한다."
   ]
  },
  {
   "cell_type": "markdown",
   "metadata": {},
   "source": [
    "##### BubbleSort로 길이가 10인 Array를 Sorting하는데 걸리는 시간"
   ]
  },
  {
   "cell_type": "code",
   "execution_count": 74,
   "metadata": {},
   "outputs": [
    {
     "name": "stdout",
     "output_type": "stream",
     "text": [
      "0.07637719300146273\n",
      "5 µs ± 9.7 ns per loop (mean ± std. dev. of 7 runs, 100,000 loops each)\n"
     ]
    }
   ],
   "source": [
    "import timeit\n",
    "from random import randint\n",
    "\n",
    "arr = [randint(1, 1000) for _ in range(10)]\n",
    "code=\"\"\"\n",
    "def bubbleSort(arr):\n",
    "    n = len(arr)\n",
    "    for i in range(n):\n",
    "        for j in range(0, n-i-1):\n",
    "            if arr[j] > arr[j+1]:\n",
    "                arr[j], arr[j+1] = arr[j+1], arr[j]\n",
    "    return arr\n",
    "\"\"\"\n",
    "\n",
    "#call the timeit() method 4 times\n",
    "print(timeit.timeit(stmt=code))\n",
    "\n",
    "\n",
    "def bubbleSort(arr):\n",
    "    n = len(arr)\n",
    "    for i in range(n):\n",
    "        for j in range(0, n-i-1):\n",
    "            if arr[j] > arr[j+1]:\n",
    "                arr[j], arr[j+1] = arr[j+1], arr[j]\n",
    "    return arr\n",
    "\n",
    "%timeit bubbleSort(arr)"
   ]
  },
  {
   "cell_type": "code",
   "execution_count": 75,
   "metadata": {},
   "outputs": [
    {
     "data": {
      "text/plain": [
       "[23, 75, 124, 195, 336, 409, 752, 877, 955, 1000]"
      ]
     },
     "execution_count": 75,
     "metadata": {},
     "output_type": "execute_result"
    }
   ],
   "source": [
    "arr"
   ]
  },
  {
   "cell_type": "markdown",
   "metadata": {},
   "source": [
    "##### MergeSort로 길이가 10인 Array를 Sorting하는데 걸리는 시간"
   ]
  },
  {
   "cell_type": "code",
   "execution_count": 9,
   "metadata": {},
   "outputs": [
    {
     "name": "stdout",
     "output_type": "stream",
     "text": [
      "0.11340697298874147\n",
      "10.3 µs ± 52.2 ns per loop (mean ± std. dev. of 7 runs, 100,000 loops each)\n"
     ]
    }
   ],
   "source": [
    "import timeit\n",
    "from random import randint\n",
    "\n",
    "unsorted_array = [randint(1, 1000) for _ in range(10)]\n",
    "code=\"\"\"\n",
    "def merge_sort(unsorted_array):\n",
    "    if len(unsorted_array) > 1:\n",
    "        mid = len(unsorted_array) // 2\n",
    "        left = unsorted_array[:mid]\n",
    "        right = unsorted_array[mid:]\n",
    "\n",
    "        merge_sort(left)\n",
    "        merge_sort(right)\n",
    "        \n",
    "\n",
    "        i = j = k = 0\n",
    "        while i < len(left) and j < len(right):\n",
    "            if left[i] < right[j]:\n",
    "                unsorted_array[k] = left[i]\n",
    "                i += 1\n",
    "            else:\n",
    "                unsorted_array[k] = right[j]\n",
    "                j += 1\n",
    "            k += 1\n",
    "        while i < len(left):\n",
    "            unsorted_array[k] = left[i]\n",
    "            i += 1\n",
    "            k += 1\n",
    "\n",
    "        while j < len(right):\n",
    "            unsorted_array[k] = right[j]\n",
    "            j += 1 \n",
    "            k += 1\n",
    "        return unsorted_array\n",
    "\"\"\"\n",
    "\n",
    "#call the timeit() method 4 times\n",
    "print(timeit.timeit(stmt=code))\n",
    "\n",
    "\n",
    "def merge_sort(unsorted_array):\n",
    "    if len(unsorted_array) > 1:\n",
    "        mid = len(unsorted_array) // 2\n",
    "        left = unsorted_array[:mid]\n",
    "        right = unsorted_array[mid:]\n",
    "\n",
    "        merge_sort(left)\n",
    "        merge_sort(right)\n",
    "        \n",
    "\n",
    "        i = j = k = 0\n",
    "        while i < len(left) and j < len(right):\n",
    "            if left[i] < right[j]:\n",
    "                unsorted_array[k] = left[i]\n",
    "                i += 1\n",
    "            else:\n",
    "                unsorted_array[k] = right[j]\n",
    "                j += 1\n",
    "            k += 1\n",
    "        while i < len(left):\n",
    "            unsorted_array[k] = left[i]\n",
    "            i += 1\n",
    "            k += 1\n",
    "\n",
    "        while j < len(right):\n",
    "            unsorted_array[k] = right[j]\n",
    "            j += 1 \n",
    "            k += 1\n",
    "        return unsorted_array\n",
    "\n",
    "%timeit merge_sort(unsorted_array)"
   ]
  },
  {
   "cell_type": "markdown",
   "metadata": {},
   "source": [
    "##### BubbleSort로 길이가 10000인 Array를 Sorting하는데 걸리는 시간"
   ]
  },
  {
   "cell_type": "code",
   "execution_count": 18,
   "metadata": {},
   "outputs": [
    {
     "name": "stdout",
     "output_type": "stream",
     "text": [
      "0.07691131001047324\n",
      "4.56 s ± 26.8 ms per loop (mean ± std. dev. of 7 runs, 1 loop each)\n"
     ]
    }
   ],
   "source": [
    "import timeit\n",
    "from random import randint\n",
    "\n",
    "arr = [randint(1, 100000) for _ in range(10000)]\n",
    "code=\"\"\"\n",
    "def bubbleSort(arr):\n",
    "    n = len(arr)\n",
    "    for i in range(n):\n",
    "        for j in range(0, n-i-1):\n",
    "            if arr[j] > arr[j+1]:\n",
    "                arr[j], arr[j+1] = arr[j+1], arr[j]\n",
    "    return arr\n",
    "\"\"\"\n",
    "\n",
    "#call the timeit() method 4 times\n",
    "print(timeit.timeit(stmt=code))\n",
    "\n",
    "\n",
    "def bubbleSort(arr):\n",
    "    n = len(arr)\n",
    "    for i in range(n):\n",
    "        for j in range(0, n-i-1):\n",
    "            if arr[j] > arr[j+1]:\n",
    "                arr[j], arr[j+1] = arr[j+1], arr[j]\n",
    "    return arr\n",
    "\n",
    "%timeit bubbleSort(arr)"
   ]
  },
  {
   "cell_type": "markdown",
   "metadata": {},
   "source": [
    "##### MergeSort로 길이가 10000인 Array를 Sorting하는데 걸리는 시간"
   ]
  },
  {
   "cell_type": "code",
   "execution_count": 17,
   "metadata": {},
   "outputs": [
    {
     "name": "stdout",
     "output_type": "stream",
     "text": [
      "0.10679017599613871\n",
      "28.8 ms ± 294 µs per loop (mean ± std. dev. of 7 runs, 10 loops each)\n"
     ]
    }
   ],
   "source": [
    "import timeit\n",
    "from random import randint\n",
    "\n",
    "unsorted_array = [randint(1, 100000) for _ in range(10000)]\n",
    "code=\"\"\"\n",
    "def merge_sort(unsorted_array):\n",
    "    if len(unsorted_array) > 1:\n",
    "        mid = len(unsorted_array) // 2\n",
    "        left = unsorted_array[:mid]\n",
    "        right = unsorted_array[mid:]\n",
    "\n",
    "        merge_sort(left)\n",
    "        merge_sort(right)\n",
    "        \n",
    "\n",
    "        i = j = k = 0\n",
    "        while i < len(left) and j < len(right):\n",
    "            if left[i] < right[j]:\n",
    "                unsorted_array[k] = left[i]\n",
    "                i += 1\n",
    "            else:\n",
    "                unsorted_array[k] = right[j]\n",
    "                j += 1\n",
    "            k += 1\n",
    "        while i < len(left):\n",
    "            unsorted_array[k] = left[i]\n",
    "            i += 1\n",
    "            k += 1\n",
    "\n",
    "        while j < len(right):\n",
    "            unsorted_array[k] = right[j]\n",
    "            j += 1 \n",
    "            k += 1\n",
    "        return unsorted_array\n",
    "\"\"\"\n",
    "\n",
    "#call the timeit() method 4 times\n",
    "print(timeit.timeit(stmt=code))\n",
    "\n",
    "\n",
    "def merge_sort(unsorted_array):\n",
    "    if len(unsorted_array) > 1:\n",
    "        mid = len(unsorted_array) // 2\n",
    "        left = unsorted_array[:mid]\n",
    "        right = unsorted_array[mid:]\n",
    "\n",
    "        merge_sort(left)\n",
    "        merge_sort(right)\n",
    "        \n",
    "\n",
    "        i = j = k = 0\n",
    "        while i < len(left) and j < len(right):\n",
    "            if left[i] < right[j]:\n",
    "                unsorted_array[k] = left[i]\n",
    "                i += 1\n",
    "            else:\n",
    "                unsorted_array[k] = right[j]\n",
    "                j += 1\n",
    "            k += 1\n",
    "        while i < len(left):\n",
    "            unsorted_array[k] = left[i]\n",
    "            i += 1\n",
    "            k += 1\n",
    "\n",
    "        while j < len(right):\n",
    "            unsorted_array[k] = right[j]\n",
    "            j += 1 \n",
    "            k += 1\n",
    "        return unsorted_array\n",
    "\n",
    "%timeit merge_sort(unsorted_array)"
   ]
  },
  {
   "cell_type": "markdown",
   "metadata": {},
   "source": [
    "## 가설 1 결론"
   ]
  },
  {
   "cell_type": "markdown",
   "metadata": {},
   "source": [
    "- Array의 길이가 10인 경우, Time Complexity가 n^2인 BubbleSort가 Time Complexity가 nlogn인 MergeSort보다 더 빠른 결과가 나온 것을 확인할 수 있다. 따라서, Array의 길이와 상관없이 Time Complexity가 BubbleSort보다 낮은 MergeSort가 항상 빠르다는 가설은 참이 아니다. \n",
    "- 하지만, Array의 길이가 10000인 경우에는 MergeSort의 속도가 BubbleSort의 속도보다 월등히 빠른 것을 확인할 수 있다."
   ]
  },
  {
   "cell_type": "markdown",
   "metadata": {},
   "source": [
    "## 가설 2 : 주어진 Array가 ordered인지 아닌지에 상관없이 Time Complexity가 BubbleSort보다 낮은 MergeSort가 항상 빠르다."
   ]
  },
  {
   "cell_type": "markdown",
   "metadata": {},
   "source": [
    "##### 주어진 Array가 UnOrdered인 경우는 가설1에서 증명했으므로 생략한다."
   ]
  },
  {
   "cell_type": "markdown",
   "metadata": {},
   "source": [
    "##### 주어진 Array가 Ordered인 경우"
   ]
  },
  {
   "cell_type": "code",
   "execution_count": 28,
   "metadata": {},
   "outputs": [],
   "source": [
    "# MergeSort를 이용하여 길이가 10000인 sorted_array 생성\n",
    "from random import randint\n",
    "\n",
    "unsorted_array = [randint(1, 10000) for _ in range(10000)]\n",
    "def merge_sort(unsorted_array):\n",
    "    if len(unsorted_array) > 1:\n",
    "        mid = len(unsorted_array) // 2\n",
    "        left = unsorted_array[:mid]\n",
    "        right = unsorted_array[mid:]\n",
    "\n",
    "        merge_sort(left)\n",
    "        merge_sort(right)\n",
    "        \n",
    "\n",
    "        i = j = k = 0\n",
    "        while i < len(left) and j < len(right):\n",
    "            if left[i] < right[j]:\n",
    "                unsorted_array[k] = left[i]\n",
    "                i += 1\n",
    "            else:\n",
    "                unsorted_array[k] = right[j]\n",
    "                j += 1\n",
    "            k += 1\n",
    "        while i < len(left):\n",
    "            unsorted_array[k] = left[i]\n",
    "            i += 1\n",
    "            k += 1\n",
    "\n",
    "        while j < len(right):\n",
    "            unsorted_array[k] = right[j]\n",
    "            j += 1 \n",
    "            k += 1\n",
    "        return unsorted_array\n",
    "\n",
    "sorted_array = unsorted_array"
   ]
  },
  {
   "cell_type": "markdown",
   "metadata": {},
   "source": [
    "##### BubbleSort를 이용하여 Ordered Array를 Sorting할 때 걸리는 시간"
   ]
  },
  {
   "cell_type": "code",
   "execution_count": 30,
   "metadata": {},
   "outputs": [
    {
     "name": "stdout",
     "output_type": "stream",
     "text": [
      "0.07791205900139175\n",
      "4.63 s ± 5.19 ms per loop (mean ± std. dev. of 7 runs, 1 loop each)\n"
     ]
    }
   ],
   "source": [
    "import timeit\n",
    "\n",
    "code=\"\"\"\n",
    "def bubbleSort(arr):\n",
    "    n = len(arr)\n",
    "    for i in range(n):\n",
    "        for j in range(0, n-i-1):\n",
    "            if arr[j] > arr[j+1]:\n",
    "                arr[j], arr[j+1] = arr[j+1], arr[j]\n",
    "    return arr\n",
    "\"\"\"\n",
    "\n",
    "#call the timeit() method 4 times\n",
    "print(timeit.timeit(stmt=code))\n",
    "\n",
    "\n",
    "def bubbleSort(arr):\n",
    "    n = len(arr)\n",
    "    for i in range(n):\n",
    "        for j in range(0, n-i-1):\n",
    "            if arr[j] > arr[j+1]:\n",
    "                arr[j], arr[j+1] = arr[j+1], arr[j]\n",
    "    return arr\n",
    "\n",
    "%timeit bubbleSort(sorted_array)"
   ]
  },
  {
   "cell_type": "markdown",
   "metadata": {},
   "source": [
    "##### MergeSort를 이용하여 Ordered Array를 Sorting할 때 걸리는 시간"
   ]
  },
  {
   "cell_type": "code",
   "execution_count": 29,
   "metadata": {},
   "outputs": [
    {
     "name": "stdout",
     "output_type": "stream",
     "text": [
      "0.09232532599708065\n",
      "29.9 ms ± 780 µs per loop (mean ± std. dev. of 7 runs, 10 loops each)\n"
     ]
    }
   ],
   "source": [
    "import timeit\n",
    "from random import randint\n",
    "\n",
    "code=\"\"\"\n",
    "def merge_sort(unsorted_array):\n",
    "    if len(unsorted_array) > 1:\n",
    "        mid = len(unsorted_array) // 2\n",
    "        left = unsorted_array[:mid]\n",
    "        right = unsorted_array[mid:]\n",
    "\n",
    "        merge_sort(left)\n",
    "        merge_sort(right)\n",
    "        \n",
    "\n",
    "        i = j = k = 0\n",
    "        while i < len(left) and j < len(right):\n",
    "            if left[i] < right[j]:\n",
    "                unsorted_array[k] = left[i]\n",
    "                i += 1\n",
    "            else:\n",
    "                unsorted_array[k] = right[j]\n",
    "                j += 1\n",
    "            k += 1\n",
    "        while i < len(left):\n",
    "            unsorted_array[k] = left[i]\n",
    "            i += 1\n",
    "            k += 1\n",
    "\n",
    "        while j < len(right):\n",
    "            unsorted_array[k] = right[j]\n",
    "            j += 1 \n",
    "            k += 1\n",
    "        return unsorted_array\n",
    "\"\"\"\n",
    "\n",
    "#call the timeit() method 4 times\n",
    "print(timeit.timeit(stmt=code))\n",
    "\n",
    "\n",
    "def merge_sort(unsorted_array):\n",
    "    if len(unsorted_array) > 1:\n",
    "        mid = len(unsorted_array) // 2\n",
    "        left = unsorted_array[:mid]\n",
    "        right = unsorted_array[mid:]\n",
    "\n",
    "        merge_sort(left)\n",
    "        merge_sort(right)\n",
    "        \n",
    "\n",
    "        i = j = k = 0\n",
    "        while i < len(left) and j < len(right):\n",
    "            if left[i] < right[j]:\n",
    "                unsorted_array[k] = left[i]\n",
    "                i += 1\n",
    "            else:\n",
    "                unsorted_array[k] = right[j]\n",
    "                j += 1\n",
    "            k += 1\n",
    "        while i < len(left):\n",
    "            unsorted_array[k] = left[i]\n",
    "            i += 1\n",
    "            k += 1\n",
    "\n",
    "        while j < len(right):\n",
    "            unsorted_array[k] = right[j]\n",
    "            j += 1 \n",
    "            k += 1\n",
    "        return unsorted_array\n",
    "\n",
    "%timeit merge_sort(sorted_array)"
   ]
  },
  {
   "cell_type": "markdown",
   "metadata": {},
   "source": [
    "## 가설 2 결론"
   ]
  },
  {
   "cell_type": "markdown",
   "metadata": {},
   "source": [
    "**Ordered 인 경우와 UnOrdered인 경우 모두 TimeComplexity가 더 낮은 MergeSort가 빨랐기 때문에 가설 2는 참이다.**"
   ]
  },
  {
   "cell_type": "markdown",
   "metadata": {},
   "source": [
    "## 가설 3. 주어진 Array의 길이와 정렬 여부에 상관없이 Time Complexity가 BubbleSort보다 낮은 MergeSort를 이용하여 Sorting한 후에 search_matched_sum 함수를 실행하는 것이 항상 빠르다."
   ]
  },
  {
   "cell_type": "markdown",
   "metadata": {},
   "source": [
    "- 가설1 :  Array의 길이와 상관없이 Time Complexity가 BubbleSort보다 낮은 MergeSort가 항상 빠르다.\n",
    "  \n",
    "  - Array의 길이가 10인 경우, Time Complexity가 n^2인 BubbleSort가 Time Complexity가 nlogn인 MergeSort보다 더 빠른 결과가 나온 것을 확인할 수 있다. 따라서, Array의 길이와 상관없이 Time Complexity가 BubbleSort보다 낮은 MergeSort가 항상 빠르다는 가설은 참이 아니다. \n",
    "  - 하지만, Array의 길이가 10000인 경우에는 MergeSort의 속도가 BubbleSort의 속도보다 월등히 빠른 것을 확인할 수 있다.\n"
   ]
  },
  {
   "cell_type": "markdown",
   "metadata": {},
   "source": [
    "- 가설 2 : 주어진 Array가 ordered인지 아닌지에 상관없이 Time Complexity가 BubbleSort보다 낮은 MergeSort가 항상 빠르다.\n",
    "  \n",
    "  - Ordered 인 경우와 UnOrdered인 경우 모두 TimeComplexity가 더 낮은 MergeSort가 빨랐기 때문에 가설 2는 참이다."
   ]
  },
  {
   "cell_type": "markdown",
   "metadata": {},
   "source": [
    "### 가설 1과 가설 2로부터 위와 같은 결론을 얻을 수 있었다. 따라서,아래와 같이 4가지의 경우로 나누어 결론을 낼 수 있다.\n",
    "1. Array의 길이가 짧고 Array가 정렬된 경우\n",
    "2. Array의 길이가 짧고 Array가 정렬되지 않은 경우\n",
    "3. Array의 길이가 길고 Array가 정렬된 경우\n",
    "4. Array의 길이가 길고 Array가 정렬되지 않은 경우"
   ]
  },
  {
   "cell_type": "markdown",
   "metadata": {},
   "source": [
    "## 가설 3 결론"
   ]
  },
  {
   "cell_type": "markdown",
   "metadata": {},
   "source": [
    "- 가설 1의 결과에 따라 Array의 길이가 짧은 경우에는 Time Complexity가 n^2인 BubbleSort가 Time Complexity가 nlogn인 MergeSort보다 더 빠른 결과가 나온 것을 확인할 수 있었다.\n",
    "- 가설 2의 결과에 따라 Ordered 인 경우와 UnOrdered인 경우 모두 TimeComplexity가 더 낮은 MergeSort가 빨랐기 때문에 가설 2는 참이다."
   ]
  },
  {
   "cell_type": "markdown",
   "metadata": {},
   "source": [
    "> 1, 2 의 경우에는 BubbleSort를 사용하는 것이, 3, 4의 경우에는 MergeSort를 사용하는 것이 빠르므로 가설 3은 참이 아니다."
   ]
  },
  {
   "cell_type": "markdown",
   "metadata": {},
   "source": [
    "# 최종 결론"
   ]
  },
  {
   "cell_type": "markdown",
   "metadata": {},
   "source": [
    "1. Array의 길이가 짧고 Array가 정렬된 경우 => BubbleSort\n",
    "2. Array의 길이가 짧고 Array가 정렬되지 않은 경우 => BubbleSort\n",
    "3. Array의 길이가 길고 Array가 정렬된 경우 => MergeSort\n",
    "4. Array의 길이가 길고 Array가 정렬되지 않은 경우 => MergeSort"
   ]
  },
  {
   "cell_type": "markdown",
   "metadata": {},
   "source": [
    "> 위와 같이 Array를 Sorting한 후에 search_matched_sum 함수를 실행하는 것이 가장 빠르다."
   ]
  }
 ],
 "metadata": {
  "kernelspec": {
   "display_name": "Python 3.10.7 64-bit",
   "language": "python",
   "name": "python3"
  },
  "language_info": {
   "codemirror_mode": {
    "name": "ipython",
    "version": 3
   },
   "file_extension": ".py",
   "mimetype": "text/x-python",
   "name": "python",
   "nbconvert_exporter": "python",
   "pygments_lexer": "ipython3",
   "version": "3.10.7"
  },
  "orig_nbformat": 4,
  "vscode": {
   "interpreter": {
    "hash": "aee8b7b246df8f9039afb4144a1f6fd8d2ca17a180786b69acc140d282b71a49"
   }
  }
 },
 "nbformat": 4,
 "nbformat_minor": 2
}
