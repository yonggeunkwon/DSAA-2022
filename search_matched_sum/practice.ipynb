{
 "cells": [
  {
   "cell_type": "code",
   "execution_count": 10,
   "metadata": {},
   "outputs": [],
   "source": [
    "def search_matched_sum(arr, target):\n",
    "    print(\"a\")\n",
    "    min_index = ()\n",
    "    n = len(arr)\n",
    "    for i in range(n):\n",
    "        for j in range(0, n):\n",
    "            if arr[i] + arr[j] == target:\n",
    "                min_index = i, j\n",
    "            # else:\n",
    "            #     min_index = None\n",
    "    return min_index"
   ]
  },
  {
   "cell_type": "code",
   "execution_count": 11,
   "metadata": {},
   "outputs": [
    {
     "name": "stdout",
     "output_type": "stream",
     "text": [
      "a\n"
     ]
    },
    {
     "data": {
      "text/plain": [
       "(3, 2)"
      ]
     },
     "execution_count": 11,
     "metadata": {},
     "output_type": "execute_result"
    }
   ],
   "source": [
    "arr = [5, 4, 2, 1]\n",
    "search_matched_sum(arr, 3)"
   ]
  },
  {
   "cell_type": "code",
   "execution_count": 12,
   "metadata": {},
   "outputs": [
    {
     "name": "stdout",
     "output_type": "stream",
     "text": [
      "0.07504178900035186\n",
      "2.5 µs ± 34.8 ns per loop (mean ± std. dev. of 7 runs, 100,000 loops each)\n"
     ]
    }
   ],
   "source": [
    "import timeit\n",
    "code=\"\"\"\n",
    "def search_matched_sum(arr, target):\n",
    "    print(\"a\")\n",
    "    min_index = ()\n",
    "    n = len(arr)\n",
    "    for i in range(n):\n",
    "        for j in range(0, n):\n",
    "            if arr[i] + arr[j] == target:\n",
    "                min_index = i, j\n",
    "    return min_index\n",
    "\"\"\"\n",
    "\n",
    "#call the timeit() method 4 times\n",
    "print(timeit.timeit(stmt=code))\n",
    "\n",
    "\n",
    "def test_func():\n",
    "    return [i for i in range(100)]\n",
    "\n",
    "%timeit test_func()"
   ]
  },
  {
   "cell_type": "code",
   "execution_count": 17,
   "metadata": {},
   "outputs": [
    {
     "name": "stdout",
     "output_type": "stream",
     "text": [
      "[55, 244, 274, 308, 439, 474, 550, 565, 609, 934]\n"
     ]
    }
   ],
   "source": [
    "from random import randint\n",
    "array = [randint(1, 1000) for _ in range(10)]\n",
    "\n",
    "def bubbleSort(arr):\n",
    "    n = len(arr)\n",
    "    for i in range(n):\n",
    "        for j in range(0, n-i-1):\n",
    "            if arr[j] > arr[j+1]:\n",
    "                arr[j], arr[j+1] = arr[j+1], arr[j]\n",
    "    return arr\n",
    "\n",
    "print(bubbleSort(array))"
   ]
  },
  {
   "cell_type": "code",
   "execution_count": 15,
   "metadata": {},
   "outputs": [],
   "source": [
    "from random import randint\n",
    "array = [randint(1, 1000) for _ in range(10)]"
   ]
  },
  {
   "cell_type": "code",
   "execution_count": 16,
   "metadata": {},
   "outputs": [
    {
     "data": {
      "text/plain": [
       "[459, 675, 503, 534, 645, 358, 537, 75, 751, 467]"
      ]
     },
     "execution_count": 16,
     "metadata": {},
     "output_type": "execute_result"
    }
   ],
   "source": [
    "array"
   ]
  },
  {
   "cell_type": "code",
   "execution_count": null,
   "metadata": {},
   "outputs": [],
   "source": []
  },
  {
   "cell_type": "code",
   "execution_count": null,
   "metadata": {},
   "outputs": [],
   "source": []
  }
 ],
 "metadata": {
  "kernelspec": {
   "display_name": "Python 3.10.7 64-bit",
   "language": "python",
   "name": "python3"
  },
  "language_info": {
   "codemirror_mode": {
    "name": "ipython",
    "version": 3
   },
   "file_extension": ".py",
   "mimetype": "text/x-python",
   "name": "python",
   "nbconvert_exporter": "python",
   "pygments_lexer": "ipython3",
   "version": "3.10.7"
  },
  "orig_nbformat": 4,
  "vscode": {
   "interpreter": {
    "hash": "aee8b7b246df8f9039afb4144a1f6fd8d2ca17a180786b69acc140d282b71a49"
   }
  }
 },
 "nbformat": 4,
 "nbformat_minor": 2
}
